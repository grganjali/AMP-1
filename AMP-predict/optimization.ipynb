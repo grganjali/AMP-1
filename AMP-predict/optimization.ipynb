{
 "cells": [
  {
   "cell_type": "code",
   "execution_count": 1,
   "metadata": {},
   "outputs": [],
   "source": [
    "import pandas as pd\n",
    "import numpy as np\n",
    "from sklearn.feature_selection import SelectKBest\n",
    "from sklearn.feature_selection import f_classif\n",
    "\n",
    "from ipywidgets import widgets\n",
    "import os\n",
    "import plotly \n",
    "# plotly.tools.set_credentials_file(username='anjgrg98', api_key='j2GJ3FbQpYIbv8BcODz3')\n",
    "# import plotly.plotly as py\n",
    "# from plotly.offline import download_plotlyjs, init_notebook_mode, plot, iplot\n",
    "# import plotly.graph_objs as go\n",
    "# import plotly.figure_factory as ff\n",
    "# init_notebook_mode(connected=True)\n",
    "\n",
    "import warnings\n",
    "warnings.filterwarnings('ignore')"
   ]
  },
  {
   "cell_type": "code",
   "execution_count": 82,
   "metadata": {},
   "outputs": [],
   "source": [
    " data = pd.read_csv(\"/home/anjali/06/AMP-1/datasets/cdhit_features.csv\")\n",
    "X=data.iloc[:, 1:97]\n",
    "y= data.iloc[:, -2]\n",
    "\n",
    "# X=np.nan_to_num(X)\n",
    "# y=np.nan_to_num(y)\n",
    "\n",
    "for col in X.keys():\n",
    "    X[col].fillna(0, inplace=True)\n",
    "    \n",
    "y=pd.factorize(y)[0]"
   ]
  },
  {
   "cell_type": "code",
   "execution_count": 83,
   "metadata": {},
   "outputs": [
    {
     "name": "stdout",
     "output_type": "stream",
     "text": [
      "10\n",
      "['hmoment', 'column_Basic_number', 'column_Charged_number', 'mw', 'lengthpep', 'column_NonPolar_number', 'column_Aliphatic_number', 'column_Polar_number', 'column_tiny_number', 'column_Aromatic_number', 'column_Small_number', 'KF7', 'T3', 'BLOSUM8', 'F5', 'charge', 'ST3', 'VHSE5', 'column_Acidic_number', 'PP3', 'Z5', 'BLOSUM5', 'pI', 'column_Acidic_percentage', 'ProtFP6', 'KF8', 'ST4', 'ST5', 'VHSE8', 'Z4', 'MSWHIM3', 'BLOSUM10']\n",
      "['hmoment', 'column_Basic_number', 'column_Charged_number', 'mw', 'lengthpep', 'column_NonPolar_number', 'column_Aliphatic_number', 'column_Polar_number', 'column_tiny_number', 'column_Aromatic_number', 'column_Small_number', 'KF7', 'T3', 'BLOSUM8', 'F5', 'charge', 'ST3', 'VHSE5', 'column_Acidic_number', 'PP3', 'Z5', 'BLOSUM5', 'pI', 'column_Acidic_percentage', 'ProtFP6', 'KF8', 'ST4', 'ST5', 'VHSE8', 'Z4', 'MSWHIM3', 'BLOSUM10', 'ProtFP3', 'column_Basic_percentage', 'F6', 'BLOSUM1', 'F1', 'instaindex', 'T4', 'KF5', 'KF3', 'VHSE4', 'column_Polar_percentage', 'ProtFP1', 'column_NonPolar_percentage', 'PP2', 'PP1', 'ST7', 'boman', 'ProtFP5', 'BLOSUM9', 'VHSE7', 'ST8', 'hydrophobicity', 'ST2', 'column_Small_percentage', 'BLOSUM3', 'BLOSUM6', 'ProtFP7', 'ProtFP4', 'BLOSUM7', 'KF10', 'T2', 'VHSE1']\n"
     ]
    }
   ],
   "source": [
    "#apply SelectKBest class to extract top 10 best features\n",
    "bestfeatures = SelectKBest(score_func=f_classif, k=10)\n",
    "fit = bestfeatures.fit(X,y)\n",
    "dfscores = pd.DataFrame(fit.scores_)\n",
    "dfcolumns = pd.DataFrame(X.columns)\n",
    "#concat two dataframes for better visualization \n",
    "featureScores = pd.concat([dfcolumns,dfscores],axis=1)\n",
    "featureScores.columns = ['Features','Score']  #naming the dataframe columns\n",
    "\n",
    "cols1= featureScores.nlargest(10,'Score').Features  #print 10 best features\n",
    "cols2= featureScores.nlargest(32,'Score').Features  #print 10 best features\n",
    "cols3= featureScores.nlargest(64,'Score').Features  #print 10 best features\n",
    "\n",
    "print(len(cols1))\n",
    "print(list(cols2))\n",
    "print(list(cols3))\n"
   ]
  },
  {
   "cell_type": "markdown",
   "metadata": {},
   "source": [
    "# Random Forest"
   ]
  },
  {
   "cell_type": "code",
   "execution_count": 6,
   "metadata": {},
   "outputs": [
    {
     "name": "stdout",
     "output_type": "stream",
     "text": [
      "       hmoment  column_Basic_number  column_Charged_number         mw  \\\n",
      "0     0.382254                   10                     14   5948.706   \n",
      "1     0.433075                    4                      4   1485.919   \n",
      "2     0.712759                    2                      4   1480.767   \n",
      "3     0.602363                    3                      4   1739.091   \n",
      "4     0.757501                   12                     20  10587.770   \n",
      "5     0.259329                    4                      4   1265.313   \n",
      "6     0.308044                    0                      1   2111.507   \n",
      "7     0.280637                    0                      1   2185.533   \n",
      "8     0.544826                    5                      5   2535.978   \n",
      "9     0.547665                    6                     10   4790.347   \n",
      "10    0.828233                    6                      6   2985.584   \n",
      "11    0.603456                    4                      5   2581.998   \n",
      "12    0.598764                    4                      5   2841.387   \n",
      "13    0.601073                    4                      4   1836.353   \n",
      "14    0.657822                    4                      5   1873.356   \n",
      "15    0.440830                    2                      2   1731.155   \n",
      "16    0.670967                    4                      4   2651.369   \n",
      "17    0.494203                    4                      4   2531.243   \n",
      "18    0.420376                    4                      5   3244.815   \n",
      "19    0.653744                    5                      6   3521.194   \n",
      "20    0.601363                    7                      9   3713.585   \n",
      "21    0.601526                    6                      6   3462.190   \n",
      "22    0.664952                    6                      8   3322.000   \n",
      "23    0.570143                    4                      4   2571.221   \n",
      "24    0.481964                    5                      7   3440.076   \n",
      "25    0.586719                    1                      1   1397.767   \n",
      "26    0.507944                    1                      1   1392.788   \n",
      "27    0.478881                    0                      0   1378.718   \n",
      "28    0.649708                    1                      1   1458.810   \n",
      "29    0.696317                    2                      2   1640.991   \n",
      "...        ...                  ...                    ...        ...   \n",
      "3277  0.320259                    0                      1   2140.683   \n",
      "3278  0.740969                    5                     10   3490.995   \n",
      "3279  0.580775                    5                      7   3714.425   \n",
      "3280  0.532577                    4                      4   3754.629   \n",
      "3281  0.196069                    0                      1   2795.441   \n",
      "3282  0.293480                    1                      1   1283.635   \n",
      "3283  0.567665                    5                      5   2247.548   \n",
      "3284  0.508995                    3                      3   4013.589   \n",
      "3285  0.112321                    2                      3   1468.545   \n",
      "3286  0.513036                    2                      4   1840.001   \n",
      "3287  0.379622                    1                      2   2683.357   \n",
      "3288  0.203325                    3                      9   2769.014   \n",
      "3289  0.475123                    5                      7   2758.169   \n",
      "3290  0.377675                    1                      2   3013.649   \n",
      "3291  0.692502                    5                      5   3142.722   \n",
      "3292  0.187738                    2                      2   2006.116   \n",
      "3293  0.378390                    2                      3   4199.003   \n",
      "3294  0.334085                    6                     13   3886.262   \n",
      "3295  0.326511                    0                      4   2514.682   \n",
      "3296  0.425352                    3                      4   3270.750   \n",
      "3297  0.572638                    2                      2   1794.107   \n",
      "3298  0.577452                    5                      7   2762.205   \n",
      "3299  0.460885                    4                     12   3436.686   \n",
      "3300  0.593951                    6                     12   4773.357   \n",
      "3301  0.298932                    3                     10   3580.795   \n",
      "3302  0.303678                    2                      4   2971.505   \n",
      "3303  0.490145                    4                      4   2618.980   \n",
      "3304  0.517497                    3                      4   4199.070   \n",
      "3305  0.261770                    1                      3   1258.368   \n",
      "3306  0.593463                    9                     13   2932.215   \n",
      "\n",
      "      lengthpep  column_NonPolar_number  column_Aliphatic_number  \\\n",
      "0            54                      28                        6   \n",
      "1            12                       8                        6   \n",
      "2            13                       8                        5   \n",
      "3            17                      12                        8   \n",
      "4            97                      52                       20   \n",
      "5            13                       7                        2   \n",
      "6            21                      15                       11   \n",
      "7            21                      18                        6   \n",
      "8            21                       9                        3   \n",
      "9            44                      25                        7   \n",
      "10           26                      14                        7   \n",
      "11           27                      18                       12   \n",
      "12           27                      17                       10   \n",
      "13           17                      11                        9   \n",
      "14           17                      11                       10   \n",
      "15           17                      13                       10   \n",
      "16           24                      17                       10   \n",
      "17           24                      19                       12   \n",
      "18           33                      20                       14   \n",
      "19           34                      19                       12   \n",
      "20           37                      26                       16   \n",
      "21           33                      21                       12   \n",
      "22           33                      19                       14   \n",
      "23           24                      17                       10   \n",
      "24           33                      19                       11   \n",
      "25           13                      11                        7   \n",
      "26           13                      10                        8   \n",
      "27           13                      10                        8   \n",
      "28           13                      11                        6   \n",
      "29           13                       9                        4   \n",
      "...         ...                     ...                      ...   \n",
      "3277         20                      16                       11   \n",
      "3278         33                      18                       10   \n",
      "3279         32                      17                       10   \n",
      "3280         33                      27                       11   \n",
      "3281         28                      24                       18   \n",
      "3282         11                       9                        6   \n",
      "3283         23                      14                       12   \n",
      "3284         38                      25                       13   \n",
      "3285         13                       4                        2   \n",
      "3286         18                      10                        5   \n",
      "3287         24                      19                       16   \n",
      "3288         25                      11                        5   \n",
      "3289         27                      17                       10   \n",
      "3290         29                      24                       15   \n",
      "3291         31                      23                       13   \n",
      "3292         25                      16                        4   \n",
      "3293         36                      28                       14   \n",
      "3294         35                      13                       10   \n",
      "3295         23                      10                        7   \n",
      "3296         29                      18                        7   \n",
      "3297         17                      13                        4   \n",
      "3298         25                      12                        5   \n",
      "3299         30                      12                        8   \n",
      "3300         39                      18                        9   \n",
      "3301         34                      15                        7   \n",
      "3302         28                      18                       12   \n",
      "3303         23                      14                        7   \n",
      "3304         37                      25                       12   \n",
      "3305         11                       4                        1   \n",
      "3306         24                       5                        1   \n",
      "\n",
      "      column_Polar_number  column_tiny_number  column_Aromatic_number  \n",
      "0                      26                  24                       9  \n",
      "1                       4                   2                       0  \n",
      "2                       5                   3                       2  \n",
      "3                       5                   6                       2  \n",
      "4                      45                  35                      10  \n",
      "5                       6                   6                       4  \n",
      "6                       6                  10                       1  \n",
      "7                       3                  11                       4  \n",
      "8                      12                   5                       3  \n",
      "9                      19                  20                       6  \n",
      "10                     12                   9                       4  \n",
      "11                      9                  14                       2  \n",
      "12                     10                  11                       3  \n",
      "13                      6                   5                       1  \n",
      "14                      6                   2                       1  \n",
      "15                      4                   5                       1  \n",
      "16                      7                   8                       2  \n",
      "17                      5                   8                       2  \n",
      "18                     13                  16                       0  \n",
      "19                     15                  14                       1  \n",
      "20                     11                  15                       1  \n",
      "21                     12                  15                       3  \n",
      "22                     14                  16                       0  \n",
      "23                      7                   9                       3  \n",
      "24                     14                  15                       2  \n",
      "25                      2                   3                       1  \n",
      "26                      3                   2                       0  \n",
      "27                      3                   2                       0  \n",
      "28                      2                   2                       2  \n",
      "29                      4                   2                       4  \n",
      "...                   ...                 ...                     ...  \n",
      "3277                    4                   6                       1  \n",
      "3278                   15                  11                       1  \n",
      "3279                   15                   9                       3  \n",
      "3280                    6                   7                       5  \n",
      "3281                    4                  11                       2  \n",
      "3282                    2                   3                       2  \n",
      "3283                    9                  15                       1  \n",
      "3284                   13                  17                       5  \n",
      "3285                    9                   4                       3  \n",
      "3286                    8                   7                       0  \n",
      "3287                    5                   6                       2  \n",
      "3288                   14                   7                       2  \n",
      "3289                   10                  12                       2  \n",
      "3290                    5                  10                       2  \n",
      "3291                    8                  14                       1  \n",
      "3292                    9                  19                       0  \n",
      "3293                    8                  11                       9  \n",
      "3294                   22                  12                       3  \n",
      "3295                   13                   7                       2  \n",
      "3296                   11                  11                       6  \n",
      "3297                    4                   6                       1  \n",
      "3298                   13                   7                       1  \n",
      "3299                   18                   8                       2  \n",
      "3300                   21                   5                       6  \n",
      "3301                   19                  14                       3  \n",
      "3302                   10                  11                       3  \n",
      "3303                    8                   5                       6  \n",
      "3304                   12                  12                       7  \n",
      "3305                    7                   1                       0  \n",
      "3306                   19                   8                       1  \n",
      "\n",
      "[3307 rows x 10 columns]\n"
     ]
    }
   ],
   "source": [
    "X1= data[cols1]\n",
    "print(X1)"
   ]
  },
  {
   "cell_type": "code",
   "execution_count": 7,
   "metadata": {},
   "outputs": [],
   "source": [
    "import mglearn\n",
    "import matplotlib.pyplot as plt\n",
    "import numpy as np\n",
    "from sklearn.neighbors import KNeighborsClassifier\n",
    "from sklearn.model_selection import train_test_split\n",
    "import pandas as pd\n",
    "from sklearn.metrics import confusion_matrix\n",
    "from sklearn.utils.multiclass import unique_labels\n",
    "from sklearn.metrics import matthews_corrcoef\n",
    "from sklearn.metrics import accuracy_score\n",
    "\n",
    "from sklearn.preprocessing import StandardScaler\n",
    "from sklearn.metrics import f1_score"
   ]
  },
  {
   "cell_type": "code",
   "execution_count": 15,
   "metadata": {},
   "outputs": [],
   "source": [
    "\n",
    "for col in X1.keys():\n",
    "    X1[col].fillna(0, inplace=True)\n",
    "\n",
    "X_train, X_test, y_train, y_test= train_test_split(X1,y, random_state=0)\n",
    "\n",
    "\n",
    "\n",
    "# Feature Scaling\n",
    "\n",
    "sc_X= StandardScaler()\n",
    "X_train= sc_X.fit_transform(X_train)\n",
    "X_test= sc_X.transform(X_test)\n",
    "\n"
   ]
  },
  {
   "cell_type": "code",
   "execution_count": 16,
   "metadata": {},
   "outputs": [],
   "source": [
    "from sklearn.tree import export_graphviz\n",
    "from sklearn.ensemble import RandomForestClassifier\n"
   ]
  },
  {
   "cell_type": "code",
   "execution_count": 17,
   "metadata": {},
   "outputs": [
    {
     "data": {
      "text/plain": [
       "RandomForestClassifier(bootstrap=True, class_weight=None, criterion='gini',\n",
       "            max_depth=None, max_features='sqrt', max_leaf_nodes=None,\n",
       "            min_impurity_decrease=0.0, min_impurity_split=None,\n",
       "            min_samples_leaf=1, min_samples_split=2,\n",
       "            min_weight_fraction_leaf=0.0, n_estimators=1000, n_jobs=None,\n",
       "            oob_score=False, random_state=None, verbose=0,\n",
       "            warm_start=False)"
      ]
     },
     "execution_count": 17,
     "metadata": {},
     "output_type": "execute_result"
    }
   ],
   "source": [
    "rf_model= RandomForestClassifier(n_estimators= 1000, max_features= \"sqrt\")\n",
    "\n",
    "rf_model.fit(X_train, y_train)"
   ]
  },
  {
   "cell_type": "code",
   "execution_count": 18,
   "metadata": {},
   "outputs": [
    {
     "name": "stdout",
     "output_type": "stream",
     "text": [
      "[0 0 0 0 0 0 0 0 1 0 0 0 0 0 0 0 0 0 0 0 0 0 0 0 0 0 0 0 1 1 0 1 0 0 0 0 0\n",
      " 0 0 1 0 0 0 0 0 0 0 1 0 1 1 1 0 0 0 1 0 1 0 0 1 1 1 0 0 0 0 0 0 0 0 0 1 0\n",
      " 0 0 0 1 0 1 0 0 0 0 0 0 0 0 1 0 0 0 0 0 0 0 0 0 0 1 0 0 0 0 0 0 0 0 0 0 0\n",
      " 0 1 0 0 0 1 0 0 0 0 0 1 0 0 1 1 0 1 1 0 0 0 1 0 1 0 0 0 0 0 0 0 0 0 0 0 0\n",
      " 1 1 0 0 0 0 0 0 0 0 0 0 1 0 0 0 0 0 0 0 0 0 0 0 0 0 1 0 0 0 1 1 0 0 0 0 1\n",
      " 0 0 1 0 1 0 0 0 0 0 0 0 1 0 0 1 0 0 0 0 0 0 0 0 1 1 1 0 0 0 1 0 0 0 0 1 0\n",
      " 0 1 1 0 0 0 0 0 1 0 1 0 0 0 0 0 0 1 0 0 0 0 0 0 1 1 1 0 0 0 0 0 0 1 0 1 0\n",
      " 0 0 0 0 0 0 1 0 0 0 0 0 0 0 0 0 0 0 0 0 0 0 0 0 0 0 0 0 0 0 0 1 0 1 0 0 0\n",
      " 0 0 0 0 0 1 0 1 0 0 0 0 0 0 0 0 0 1 0 0 0 0 1 0 1 1 1 0 1 1 0 0 0 1 0 0 0\n",
      " 0 0 0 0 0 0 0 1 0 0 0 0 0 0 1 0 0 0 0 0 1 0 0 1 0 0 0 0 0 1 0 0 0 0 0 0 0\n",
      " 0 0 1 0 1 0 0 1 1 0 0 0 0 0 1 0 1 0 0 1 1 0 0 0 0 0 1 1 0 0 1 0 0 0 1 0 0\n",
      " 1 0 0 0 0 0 1 1 1 0 1 1 1 0 0 0 1 1 0 0 0 0 0 0 0 0 1 0 0 1 0 1 0 0 0 0 0\n",
      " 0 0 0 0 0 0 0 1 0 0 0 0 0 1 1 0 0 0 0 0 0 0 0 0 0 0 0 0 0 0 0 0 0 0 0 0 0\n",
      " 0 1 0 0 0 0 0 0 0 0 0 0 0 0 1 0 0 0 1 0 1 0 0 1 0 0 0 0 0 0 0 0 0 0 1 1 0\n",
      " 0 1 0 0 0 0 0 0 0 0 0 0 0 0 0 0 0 0 0 0 1 0 0 0 0 0 0 0 1 0 0 0 1 1 0 0 1\n",
      " 0 0 1 1 0 0 0 0 0 0 1 0 0 0 1 0 0 0 0 0 1 0 1 0 0 0 0 0 0 0 0 0 0 0 0 0 1\n",
      " 0 0 1 0 0 0 0 0 1 0 0 1 0 0 0 0 0 1 0 1 0 0 0 0 0 0 0 0 0 0 0 0 1 0 0 0 0\n",
      " 0 0 0 0 0 0 0 0 0 0 0 1 0 0 0 0 1 0 0 0 0 0 0 0 0 0 0 0 0 0 0 0 1 1 0 0 0\n",
      " 0 0 0 1 0 0 0 0 0 0 1 0 0 0 0 0 0 0 0 0 0 0 0 0 0 0 0 0 0 1 0 0 0 0 0 0 0\n",
      " 0 0 0 0 0 0 0 0 0 1 0 0 0 0 0 0 0 0 0 1 0 0 0 0 0 1 1 1 0 0 0 1 1 0 1 1 0\n",
      " 1 1 0 0 1 0 0 0 1 0 0 0 0 1 0 0 0 1 0 0 0 0 0 0 0 0 0 0 0 0 1 0 1 0 0 0 1\n",
      " 0 0 1 0 0 0 0 0 0 0 0 0 0 0 1 0 0 0 0 0 1 0 1 0 0 0 0 0 0 0 0 0 0 0 0 0 0\n",
      " 0 0 0 0 0 0 0 0 0 0 0 0 1]\n",
      "[[0.794 0.206]\n",
      " [0.998 0.002]\n",
      " [1.    0.   ]\n",
      " ...\n",
      " [0.985 0.015]\n",
      " [0.659 0.341]\n",
      " [0.366 0.634]]\n"
     ]
    }
   ],
   "source": [
    "rf_pred= rf_model.predict(X_test)\n",
    "print(rf_pred)\n",
    "\n",
    "\n",
    "rf_probs= rf_model.predict_proba(X_test)\n",
    "print(rf_probs)"
   ]
  },
  {
   "cell_type": "code",
   "execution_count": 19,
   "metadata": {},
   "outputs": [
    {
     "name": "stdout",
     "output_type": "stream",
     "text": [
      "[[598  43]\n",
      " [ 74 112]]\n",
      "0.656891495601173\n"
     ]
    }
   ],
   "source": [
    "# Confusion Matrix\n",
    "\n",
    "rf_conf= confusion_matrix(y_test, rf_pred)\n",
    "print(rf_conf)\n",
    "\n",
    "rf_f1= f1_score(y_test, rf_pred)\n",
    "print(rf_f1)"
   ]
  },
  {
   "cell_type": "code",
   "execution_count": 20,
   "metadata": {},
   "outputs": [
    {
     "name": "stdout",
     "output_type": "stream",
     "text": [
      "0.8585247883917775\n"
     ]
    }
   ],
   "source": [
    "# Accuracy Score\n",
    "\n",
    "rf_acc= accuracy_score(y_test, rf_pred)\n",
    "print(rf_acc)"
   ]
  },
  {
   "cell_type": "code",
   "execution_count": 21,
   "metadata": {},
   "outputs": [
    {
     "name": "stdout",
     "output_type": "stream",
     "text": [
      "[[607  34]\n",
      " [ 56 130]]\n",
      "0.7428571428571429\n",
      "0.8911729141475212\n"
     ]
    }
   ],
   "source": [
    "X2= data[cols2]\n",
    "\n",
    "for col in X2.keys():\n",
    "    X2[col].fillna(0, inplace=True)\n",
    "    \n",
    "X_train, X_test, y_train, y_test= train_test_split(X2,y, random_state=0)\n",
    "\n",
    "# Feature Scaling\n",
    "\n",
    "sc_X= StandardScaler()\n",
    "X_train= sc_X.fit_transform(X_train)\n",
    "X_test= sc_X.transform(X_test)\n",
    "\n",
    "\n",
    "rf_model.fit(X_train, y_train)\n",
    "\n",
    "rf_pred= rf_model.predict(X_test)\n",
    "rf_probs= rf_model.predict_proba(X_test)\n",
    "\n",
    "# Confusion Matrix\n",
    "\n",
    "rf_conf= confusion_matrix(y_test, rf_pred)\n",
    "print(rf_conf)\n",
    "\n",
    "rf_f1= f1_score(y_test, rf_pred)\n",
    "print(rf_f1)\n",
    "\n",
    "# Accuracy Score\n",
    "\n",
    "rf_acc= accuracy_score(y_test, rf_pred)\n",
    "print(rf_acc)"
   ]
  },
  {
   "cell_type": "code",
   "execution_count": 22,
   "metadata": {},
   "outputs": [
    {
     "name": "stdout",
     "output_type": "stream",
     "text": [
      "[[611  30]\n",
      " [ 66 120]]\n",
      "0.7142857142857142\n",
      "0.8839177750906893\n"
     ]
    }
   ],
   "source": [
    "X3= data[cols3]\n",
    "\n",
    "for col in X3.keys():\n",
    "    X3[col].fillna(0, inplace=True)\n",
    "    \n",
    "X_train, X_test, y_train, y_test= train_test_split(X3,y, random_state=0)\n",
    "\n",
    "# Feature Scaling\n",
    "\n",
    "sc_X= StandardScaler()\n",
    "X_train= sc_X.fit_transform(X_train)\n",
    "X_test= sc_X.transform(X_test)\n",
    "\n",
    "\n",
    "rf_model.fit(X_train, y_train)\n",
    "\n",
    "rf_pred= rf_model.predict(X_test)\n",
    "rf_probs= rf_model.predict_proba(X_test)\n",
    "\n",
    "# Confusion Matrix\n",
    "\n",
    "rf_conf= confusion_matrix(y_test, rf_pred)\n",
    "print(rf_conf)\n",
    "\n",
    "rf_f1= f1_score(y_test, rf_pred)\n",
    "print(rf_f1)\n",
    "\n",
    "# Accuracy Score\n",
    "\n",
    "rf_acc= accuracy_score(y_test, rf_pred)\n",
    "print(rf_acc)"
   ]
  },
  {
   "cell_type": "code",
   "execution_count": 23,
   "metadata": {},
   "outputs": [
    {
     "name": "stdout",
     "output_type": "stream",
     "text": [
      "[[610  31]\n",
      " [ 62 124]]\n",
      "0.7272727272727272\n",
      "0.8875453446191052\n"
     ]
    }
   ],
   "source": [
    "cols4= featureScores.nlargest(48,'Score').Features  #print 10 best features\n",
    "X4= data[cols4]\n",
    "\n",
    "for col in X4.keys():\n",
    "    X4[col].fillna(0, inplace=True)\n",
    "    \n",
    "X_train, X_test, y_train, y_test= train_test_split(X4,y, random_state=0)\n",
    "\n",
    "# Feature Scaling\n",
    "\n",
    "sc_X= StandardScaler()\n",
    "X_train= sc_X.fit_transform(X_train)\n",
    "X_test= sc_X.transform(X_test)\n",
    "\n",
    "\n",
    "rf_model.fit(X_train, y_train)\n",
    "\n",
    "rf_pred= rf_model.predict(X_test)\n",
    "rf_probs= rf_model.predict_proba(X_test)\n",
    "\n",
    "# Confusion Matrix\n",
    "\n",
    "rf_conf= confusion_matrix(y_test, rf_pred)\n",
    "print(rf_conf)\n",
    "\n",
    "rf_f1= f1_score(y_test, rf_pred)\n",
    "print(rf_f1)\n",
    "\n",
    "# Accuracy Score\n",
    "\n",
    "rf_acc= accuracy_score(y_test, rf_pred)\n",
    "print(rf_acc)\n"
   ]
  },
  {
   "cell_type": "code",
   "execution_count": 24,
   "metadata": {
    "scrolled": true
   },
   "outputs": [
    {
     "name": "stdout",
     "output_type": "stream",
     "text": [
      "[[608  33]\n",
      " [ 66 120]]\n",
      "0.7079646017699115\n",
      "0.8802902055622733\n"
     ]
    }
   ],
   "source": [
    "cols5= featureScores.nlargest(38,'Score').Features  #print 10 best features\n",
    "X5= data[cols5]\n",
    "\n",
    "for col in X5.keys():\n",
    "    X5[col].fillna(0, inplace=True)\n",
    "    \n",
    "X_train, X_test, y_train, y_test= train_test_split(X5,y, random_state=0)\n",
    "\n",
    "# Feature Scaling\n",
    "\n",
    "sc_X= StandardScaler()\n",
    "X_train= sc_X.fit_transform(X_train)\n",
    "X_test= sc_X.transform(X_test)\n",
    "\n",
    "\n",
    "rf_model.fit(X_train, y_train)\n",
    "\n",
    "rf_pred= rf_model.predict(X_test)\n",
    "rf_probs= rf_model.predict_proba(X_test)\n",
    "\n",
    "# Confusion Matrix\n",
    "\n",
    "rf_conf= confusion_matrix(y_test, rf_pred)\n",
    "print(rf_conf)\n",
    "\n",
    "rf_f1= f1_score(y_test, rf_pred)\n",
    "print(rf_f1)\n",
    "\n",
    "# Accuracy Score\n",
    "\n",
    "rf_acc= accuracy_score(y_test, rf_pred)\n",
    "print(rf_acc)"
   ]
  },
  {
   "cell_type": "code",
   "execution_count": 84,
   "metadata": {},
   "outputs": [],
   "source": [
    "rf_acc= list()\n",
    "for i in range(32, 65):\n",
    "    cols= featureScores.nlargest(i,'Score').Features  #print i best features\n",
    "    X= data[cols]\n",
    "\n",
    "    for col in X.keys():\n",
    "        X[col].fillna(0, inplace=True)\n",
    "\n",
    "    X_train, X_test, y_train, y_test= train_test_split(X,y, random_state=0)\n",
    "\n",
    "    # Feature Scaling\n",
    "\n",
    "    sc_X= StandardScaler()\n",
    "    X_train= sc_X.fit_transform(X_train)\n",
    "    X_test= sc_X.transform(X_test)\n",
    "\n",
    "\n",
    "    rf_model.fit(X_train, y_train)\n",
    "\n",
    "    rf_pred= rf_model.predict(X_test)\n",
    "#     rf_probs= rf_model.predict_proba(X_test)\n",
    "\n",
    "#     # Confusion Matrix\n",
    "\n",
    "#     rf_conf= confusion_matrix(y_test, rf_pred)\n",
    "#     print(rf_conf)\n",
    "\n",
    "#     rf_f1= f1_score(y_test, rf_pred)\n",
    "#     print(rf_f1)\n",
    "\n",
    "    # Accuracy Score\n",
    "\n",
    "    rf_acc.append(accuracy_score(y_test, rf_pred))\n",
    "#     print(rf_acc)\n",
    "    \n"
   ]
  },
  {
   "cell_type": "code",
   "execution_count": 86,
   "metadata": {},
   "outputs": [
    {
     "name": "stdout",
     "output_type": "stream",
     "text": [
      "[0.8911729141475212, 0.8887545344619106, 0.8887545344619106, 0.8899637243047158, 0.8863361547762999, 0.8839177750906893, 0.8814993954050786, 0.8839177750906893, 0.8887545344619106, 0.8839177750906893, 0.8839177750906893, 0.8851269649334945, 0.8827085852478839, 0.8863361547762999, 0.8851269649334945, 0.8887545344619106, 0.8875453446191052, 0.8863361547762999, 0.8814993954050786, 0.8887545344619106, 0.8839177750906893, 0.8814993954050786, 0.8839177750906893, 0.8839177750906893, 0.8814993954050786, 0.8814993954050786, 0.8827085852478839, 0.8863361547762999, 0.8851269649334945, 0.8827085852478839, 0.8802902055622733, 0.8827085852478839, 0.8887545344619106]\n"
     ]
    }
   ],
   "source": [
    "print(rf_acc)"
   ]
  },
  {
   "cell_type": "code",
   "execution_count": 85,
   "metadata": {
    "scrolled": false
   },
   "outputs": [
    {
     "data": {
      "image/png": "[encoded data removed]",
      "text/plain": [
       "<Figure size 576x396 with 1 Axes>"
      ]
     },
     "metadata": {},
     "output_type": "display_data"
    }
   ],
   "source": [
    "import matplotlib.pyplot as plt\n",
    "plt.plot(range(32, 65), rf_acc)\n",
    "plt.xlabel('no. of features')\n",
    "plt.ylabel('accuracy')\n",
    "# plt.title('Pakistan India Population till 2010')\n",
    "plt.show()"
   ]
  },
  {
   "cell_type": "code",
   "execution_count": 39,
   "metadata": {},
   "outputs": [],
   "source": [
    "rf_acc= list()\n",
    "for i in range(1, 32):\n",
    "    cols= featureScores.nlargest(i,'Score').Features  #print 10 best features\n",
    "    X= data[cols]\n",
    "\n",
    "    for col in X.keys():\n",
    "        X[col].fillna(0, inplace=True)\n",
    "\n",
    "    X_train, X_test, y_train, y_test= train_test_split(X,y, random_state=0)\n",
    "\n",
    "    # Feature Scaling\n",
    "\n",
    "    sc_X= StandardScaler()\n",
    "    X_train= sc_X.fit_transform(X_train)\n",
    "    X_test= sc_X.transform(X_test)\n",
    "\n",
    "\n",
    "    rf_model.fit(X_train, y_train)\n",
    "\n",
    "    rf_pred= rf_model.predict(X_test)\n",
    "#     rf_probs= rf_model.predict_proba(X_test)\n",
    "\n",
    "#     # Confusion Matrix\n",
    "\n",
    "#     rf_conf= confusion_matrix(y_test, rf_pred)\n",
    "#     print(rf_conf)\n",
    "\n",
    "#     rf_f1= f1_score(y_test, rf_pred)\n",
    "#     print(rf_f1)\n",
    "\n",
    "    # Accuracy Score\n",
    "\n",
    "    rf_acc.append(accuracy_score(y_test, rf_pred))\n",
    "#     print(rf_acc)\n",
    "    \n"
   ]
  },
  {
   "cell_type": "code",
   "execution_count": 40,
   "metadata": {},
   "outputs": [
    {
     "name": "stdout",
     "output_type": "stream",
     "text": [
      "[0.717049576783555, 0.7629987908101572, 0.7654171704957679, 0.8174123337363967, 0.8282950423216445, 0.8403869407496977, 0.848851269649335, 0.8597339782345829, 0.8573155985489722, 0.8561064087061668, 0.8536880290205562, 0.8573155985489722, 0.8524788391777509, 0.8573155985489722, 0.8657799274486094, 0.871825876662636, 0.8706166868198307, 0.8742442563482467, 0.875453446191052, 0.8766626360338573, 0.8730350665054414, 0.875453446191052, 0.875453446191052, 0.8802902055622733, 0.875453446191052, 0.871825876662636, 0.8766626360338573, 0.8827085852478839, 0.8814993954050786, 0.879081015719468, 0.8827085852478839]\n"
     ]
    },
    {
     "data": {
      "image/png": "[encoded data removed]",
      "text/plain": [
       "<Figure size 432x288 with 1 Axes>"
      ]
     },
     "metadata": {
      "needs_background": "light"
     },
     "output_type": "display_data"
    }
   ],
   "source": [
    "print(rf_acc)\n",
    "\n",
    "import matplotlib.pyplot as plt\n",
    "plt.plot(range(1, 32), rf_acc)\n",
    "plt.xlabel('no. of features')\n",
    "plt.ylabel('accuracy')\n",
    "# plt.title('Pakistan India Population till 2010')\n",
    "plt.show()"
   ]
  },
  {
   "cell_type": "code",
   "execution_count": 42,
   "metadata": {},
   "outputs": [],
   "source": [
    "rf_acc= list()\n",
    "for i in range(65, 97):\n",
    "    cols= featureScores.nlargest(i,'Score').Features  #print 10 best features\n",
    "    X= data[cols]\n",
    "\n",
    "    for col in X.keys():\n",
    "        X[col].fillna(0, inplace=True)\n",
    "\n",
    "    X_train, X_test, y_train, y_test= train_test_split(X,y, random_state=0)\n",
    "\n",
    "    # Feature Scaling\n",
    "\n",
    "    sc_X= StandardScaler()\n",
    "    X_train= sc_X.fit_transform(X_train)\n",
    "    X_test= sc_X.transform(X_test)\n",
    "\n",
    "\n",
    "    rf_model.fit(X_train, y_train)\n",
    "\n",
    "    rf_pred= rf_model.predict(X_test)\n",
    "#     rf_probs= rf_model.predict_proba(X_test)\n",
    "\n",
    "#     # Confusion Matrix\n",
    "\n",
    "#     rf_conf= confusion_matrix(y_test, rf_pred)\n",
    "#     print(rf_conf)\n",
    "\n",
    "#     rf_f1= f1_score(y_test, rf_pred)\n",
    "#     print(rf_f1)\n",
    "\n",
    "    # Accuracy Score\n",
    "\n",
    "    rf_acc.append(accuracy_score(y_test, rf_pred))\n",
    "#     print(rf_acc)\n",
    "    \n"
   ]
  },
  {
   "cell_type": "code",
   "execution_count": 44,
   "metadata": {},
   "outputs": [
    {
     "name": "stdout",
     "output_type": "stream",
     "text": [
      "[0.8851269649334945, 0.8851269649334945, 0.8802902055622733, 0.8863361547762999, 0.8887545344619106, 0.8827085852478839, 0.8839177750906893, 0.8863361547762999, 0.8863361547762999, 0.8875453446191052, 0.8887545344619106, 0.8875453446191052, 0.8887545344619106, 0.8923821039903265, 0.8851269649334945, 0.8863361547762999, 0.8887545344619106, 0.8839177750906893, 0.8899637243047158, 0.8899637243047158, 0.8863361547762999, 0.8899637243047158, 0.8887545344619106, 0.8875453446191052, 0.8875453446191052, 0.8875453446191052, 0.8887545344619106, 0.8887545344619106, 0.8887545344619106, 0.8875453446191052, 0.8875453446191052, 0.8814993954050786]\n"
     ]
    },
    {
     "data": {
      "image/png": "[encoded data removed]",
      "text/plain": [
       "<Figure size 432x288 with 1 Axes>"
      ]
     },
     "metadata": {
      "needs_background": "light"
     },
     "output_type": "display_data"
    }
   ],
   "source": [
    "print(rf_acc)\n",
    "\n",
    "import matplotlib.pyplot as plt\n",
    "plt.plot(range(65, 97), rf_acc)\n",
    "plt.xlabel('no. of features')\n",
    "plt.ylabel('accuracy')\n",
    "# plt.title('Pakistan India Population till 2010')\n",
    "plt.show()"
   ]
  },
  {
   "cell_type": "markdown",
   "metadata": {},
   "source": [
    "# KNN"
   ]
  },
  {
   "cell_type": "code",
   "execution_count": 34,
   "metadata": {},
   "outputs": [
    {
     "name": "stdout",
     "output_type": "stream",
     "text": [
      "28.75760768909681\n"
     ]
    }
   ],
   "source": [
    "# to estimate n_neighbors\n",
    "\n",
    "import math\n",
    "\n",
    "n_neighbors= math.sqrt(len(y_test))\n",
    "print(n_neighbors)"
   ]
  },
  {
   "cell_type": "code",
   "execution_count": 87,
   "metadata": {},
   "outputs": [],
   "source": [
    "n_neighbors= 29\n",
    "\n",
    "knn_model= KNeighborsClassifier(n_neighbors= n_neighbors, metric= \"euclidean\")\n",
    "knn_acc= list()\n",
    "\n",
    "for i in range(32, 65): \n",
    "    cols= featureScores.nlargest(i,'Score').Features  #print 10 best features\n",
    "    X= data[cols]\n",
    "\n",
    "    for col in X.keys():\n",
    "        X[col].fillna(0, inplace=True)\n",
    "\n",
    "    X_train, X_test, y_train, y_test= train_test_split(X,y, random_state=0)\n",
    "\n",
    "    # Feature Scaling\n",
    "\n",
    "    sc_X= StandardScaler()\n",
    "    X_train= sc_X.fit_transform(X_train)\n",
    "    X_test= sc_X.transform(X_test)\n",
    "\n",
    "    knn_model.fit(X_train, y_train)\n",
    "\n",
    "    knn_pred= knn_model.predict(X_test)\n",
    "#     print(knn_pred)\n",
    "\n",
    "#     knn_probs= knn_model.predict_proba(X_test)\n",
    "#     print(knn_probs)\n",
    "\n",
    "    # Accuracy Score\n",
    "\n",
    "    knn_acc.append(accuracy_score(y_test, knn_pred))\n",
    "#     print(knn_acc)"
   ]
  },
  {
   "cell_type": "code",
   "execution_count": 88,
   "metadata": {
    "scrolled": true
   },
   "outputs": [
    {
     "name": "stdout",
     "output_type": "stream",
     "text": [
      "[0.8706166868198307, 0.8802902055622733, 0.879081015719468, 0.8742442563482467, 0.875453446191052, 0.871825876662636, 0.8730350665054414, 0.8657799274486094, 0.871825876662636, 0.8706166868198307, 0.8681983071342201, 0.8657799274486094, 0.8597339782345829, 0.8573155985489722, 0.8597339782345829, 0.8597339782345829, 0.8645707376058042, 0.8645707376058042, 0.8645707376058042, 0.8597339782345829, 0.8657799274486094, 0.8561064087061668, 0.8621523579201935, 0.8585247883917775, 0.8561064087061668, 0.8536880290205562, 0.8585247883917775, 0.8536880290205562, 0.8585247883917775, 0.8585247883917775, 0.8585247883917775, 0.8609431680773881, 0.8536880290205562]\n"
     ]
    }
   ],
   "source": [
    "print(knn_acc)"
   ]
  },
  {
   "cell_type": "code",
   "execution_count": 89,
   "metadata": {
    "scrolled": false
   },
   "outputs": [
    {
     "data": {
      "image/png": "[encoded data removed]",
      "text/plain": [
       "<Figure size 576x396 with 1 Axes>"
      ]
     },
     "metadata": {},
     "output_type": "display_data"
    }
   ],
   "source": [
    "import matplotlib.pyplot as plt\n",
    "plt.plot(range(32, 65), knn_acc)\n",
    "plt.xlabel('no. of features')\n",
    "plt.ylabel('accuracy')\n",
    "# plt.title('Pakistan India Population till 2010')\n",
    "plt.show()"
   ]
  },
  {
   "cell_type": "code",
   "execution_count": 52,
   "metadata": {},
   "outputs": [
    {
     "name": "stdout",
     "output_type": "stream",
     "text": [
      "[[612  29]\n",
      " [ 69 117]]\n"
     ]
    }
   ],
   "source": [
    "cols= featureScores.nlargest(33,'Score').Features  #print 10 best features\n",
    "X= data[cols]\n",
    "\n",
    "for col in X.keys():\n",
    "    X[col].fillna(0, inplace=True)\n",
    "\n",
    "X_train, X_test, y_train, y_test= train_test_split(X,y, random_state=0)\n",
    "\n",
    "# Feature Scaling\n",
    "\n",
    "sc_X= StandardScaler()\n",
    "X_train= sc_X.fit_transform(X_train)\n",
    "X_test= sc_X.transform(X_test)\n",
    "\n",
    "knn_model.fit(X_train, y_train)\n",
    "\n",
    "knn_pred= knn_model.predict(X_test)\n",
    "#     print(knn_pred)\n",
    "\n",
    "knn_probs= knn_model.predict_proba(X_test)\n",
    "#     print(knn_probs)\n",
    "\n",
    "rf_conf= confusion_matrix(y_test, rf_pred)\n",
    "print(rf_conf)"
   ]
  },
  {
   "cell_type": "code",
   "execution_count": 45,
   "metadata": {},
   "outputs": [],
   "source": [
    "for i in range(1, 32): \n",
    "    cols= featureScores.nlargest(i,'Score').Features  #print 10 best features\n",
    "    X= data[cols]\n",
    "\n",
    "    for col in X.keys():\n",
    "        X[col].fillna(0, inplace=True)\n",
    "\n",
    "    X_train, X_test, y_train, y_test= train_test_split(X,y, random_state=0)\n",
    "\n",
    "    # Feature Scaling\n",
    "\n",
    "    sc_X= StandardScaler()\n",
    "    X_train= sc_X.fit_transform(X_train)\n",
    "    X_test= sc_X.transform(X_test)\n",
    "\n",
    "    knn_model.fit(X_train, y_train)\n",
    "\n",
    "    knn_pred= knn_model.predict(X_test)\n",
    "#     print(knn_pred)\n",
    "\n",
    "#     knn_probs= knn_model.predict_proba(X_test)\n",
    "#     print(knn_probs)\n",
    "\n",
    "    # Accuracy Score\n",
    "\n",
    "    knn_acc.append(accuracy_score(y_test, knn_pred))\n",
    "#     print(knn_acc)"
   ]
  },
  {
   "cell_type": "code",
   "execution_count": 46,
   "metadata": {},
   "outputs": [
    {
     "name": "stdout",
     "output_type": "stream",
     "text": [
      "[0.8706166868198307, 0.8802902055622733, 0.879081015719468, 0.8742442563482467, 0.875453446191052, 0.871825876662636, 0.8730350665054414, 0.8657799274486094, 0.871825876662636, 0.8706166868198307, 0.8681983071342201, 0.8657799274486094, 0.8597339782345829, 0.8573155985489722, 0.8597339782345829, 0.8597339782345829, 0.8645707376058042, 0.8645707376058042, 0.8645707376058042, 0.8597339782345829, 0.8657799274486094, 0.8561064087061668, 0.8621523579201935, 0.8585247883917775, 0.8561064087061668, 0.8536880290205562, 0.8585247883917775, 0.8536880290205562, 0.8585247883917775, 0.8585247883917775, 0.8585247883917775, 0.8609431680773881, 0.8536880290205562, 0.7956469165659008, 0.8041112454655381, 0.8077388149939541, 0.8198307134220073, 0.8198307134220073, 0.8101571946795647, 0.8270858524788391, 0.8319226118500604, 0.8307134220072552, 0.8355501813784765, 0.837968561064087, 0.8125755743651754, 0.8367593712212817, 0.8282950423216445, 0.8548972188633616, 0.8500604594921403, 0.8524788391777509, 0.8573155985489722, 0.8597339782345829, 0.8585247883917775, 0.8609431680773881, 0.8597339782345829, 0.8645707376058042, 0.8706166868198307, 0.8645707376058042, 0.8645707376058042, 0.8766626360338573, 0.871825876662636, 0.871825876662636, 0.8706166868198307, 0.8669891172914147]\n"
     ]
    },
    {
     "ename": "ValueError",
     "evalue": "x and y must have same first dimension, but have shapes (31,) and (64,)",
     "output_type": "error",
     "traceback": [
      "\u001b[0;31m---------------------------------------------------------------------------\u001b[0m",
      "\u001b[0;31mValueError\u001b[0m                                Traceback (most recent call last)",
      "\u001b[0;32m<ipython-input-46-f8ab4838219f>\u001b[0m in \u001b[0;36m<module>\u001b[0;34m\u001b[0m\n\u001b[1;32m      2\u001b[0m \u001b[0;34m\u001b[0m\u001b[0m\n\u001b[1;32m      3\u001b[0m \u001b[0;32mimport\u001b[0m \u001b[0mmatplotlib\u001b[0m\u001b[0;34m.\u001b[0m\u001b[0mpyplot\u001b[0m \u001b[0;32mas\u001b[0m \u001b[0mplt\u001b[0m\u001b[0;34m\u001b[0m\u001b[0;34m\u001b[0m\u001b[0m\n\u001b[0;32m----> 4\u001b[0;31m \u001b[0mplt\u001b[0m\u001b[0;34m.\u001b[0m\u001b[0mplot\u001b[0m\u001b[0;34m(\u001b[0m\u001b[0mrange\u001b[0m\u001b[0;34m(\u001b[0m\u001b[0;36m1\u001b[0m\u001b[0;34m,\u001b[0m \u001b[0;36m32\u001b[0m\u001b[0;34m)\u001b[0m\u001b[0;34m,\u001b[0m \u001b[0mknn_acc\u001b[0m\u001b[0;34m)\u001b[0m\u001b[0;34m\u001b[0m\u001b[0;34m\u001b[0m\u001b[0m\n\u001b[0m\u001b[1;32m      5\u001b[0m \u001b[0mplt\u001b[0m\u001b[0;34m.\u001b[0m\u001b[0mxlabel\u001b[0m\u001b[0;34m(\u001b[0m\u001b[0;34m'no. of features'\u001b[0m\u001b[0;34m)\u001b[0m\u001b[0;34m\u001b[0m\u001b[0;34m\u001b[0m\u001b[0m\n\u001b[1;32m      6\u001b[0m \u001b[0mplt\u001b[0m\u001b[0;34m.\u001b[0m\u001b[0mylabel\u001b[0m\u001b[0;34m(\u001b[0m\u001b[0;34m'accuracy'\u001b[0m\u001b[0;34m)\u001b[0m\u001b[0;34m\u001b[0m\u001b[0;34m\u001b[0m\u001b[0m\n",
      "\u001b[0;32m~/anaconda3/lib/python3.7/site-packages/matplotlib/pyplot.py\u001b[0m in \u001b[0;36mplot\u001b[0;34m(scalex, scaley, data, *args, **kwargs)\u001b[0m\n\u001b[1;32m   2809\u001b[0m     return gca().plot(\n\u001b[1;32m   2810\u001b[0m         *args, scalex=scalex, scaley=scaley, **({\"data\": data} if data\n\u001b[0;32m-> 2811\u001b[0;31m         is not None else {}), **kwargs)\n\u001b[0m\u001b[1;32m   2812\u001b[0m \u001b[0;34m\u001b[0m\u001b[0m\n\u001b[1;32m   2813\u001b[0m \u001b[0;34m\u001b[0m\u001b[0m\n",
      "\u001b[0;32m~/anaconda3/lib/python3.7/site-packages/matplotlib/__init__.py\u001b[0m in \u001b[0;36minner\u001b[0;34m(ax, data, *args, **kwargs)\u001b[0m\n\u001b[1;32m   1808\u001b[0m                         \u001b[0;34m\"the Matplotlib list!)\"\u001b[0m \u001b[0;34m%\u001b[0m \u001b[0;34m(\u001b[0m\u001b[0mlabel_namer\u001b[0m\u001b[0;34m,\u001b[0m \u001b[0mfunc\u001b[0m\u001b[0;34m.\u001b[0m\u001b[0m__name__\u001b[0m\u001b[0;34m)\u001b[0m\u001b[0;34m,\u001b[0m\u001b[0;34m\u001b[0m\u001b[0;34m\u001b[0m\u001b[0m\n\u001b[1;32m   1809\u001b[0m                         RuntimeWarning, stacklevel=2)\n\u001b[0;32m-> 1810\u001b[0;31m             \u001b[0;32mreturn\u001b[0m \u001b[0mfunc\u001b[0m\u001b[0;34m(\u001b[0m\u001b[0max\u001b[0m\u001b[0;34m,\u001b[0m \u001b[0;34m*\u001b[0m\u001b[0margs\u001b[0m\u001b[0;34m,\u001b[0m \u001b[0;34m**\u001b[0m\u001b[0mkwargs\u001b[0m\u001b[0;34m)\u001b[0m\u001b[0;34m\u001b[0m\u001b[0;34m\u001b[0m\u001b[0m\n\u001b[0m\u001b[1;32m   1811\u001b[0m \u001b[0;34m\u001b[0m\u001b[0m\n\u001b[1;32m   1812\u001b[0m         inner.__doc__ = _add_data_doc(inner.__doc__,\n",
      "\u001b[0;32m~/anaconda3/lib/python3.7/site-packages/matplotlib/axes/_axes.py\u001b[0m in \u001b[0;36mplot\u001b[0;34m(self, scalex, scaley, *args, **kwargs)\u001b[0m\n\u001b[1;32m   1609\u001b[0m         \u001b[0mkwargs\u001b[0m \u001b[0;34m=\u001b[0m \u001b[0mcbook\u001b[0m\u001b[0;34m.\u001b[0m\u001b[0mnormalize_kwargs\u001b[0m\u001b[0;34m(\u001b[0m\u001b[0mkwargs\u001b[0m\u001b[0;34m,\u001b[0m \u001b[0mmlines\u001b[0m\u001b[0;34m.\u001b[0m\u001b[0mLine2D\u001b[0m\u001b[0;34m.\u001b[0m\u001b[0m_alias_map\u001b[0m\u001b[0;34m)\u001b[0m\u001b[0;34m\u001b[0m\u001b[0;34m\u001b[0m\u001b[0m\n\u001b[1;32m   1610\u001b[0m \u001b[0;34m\u001b[0m\u001b[0m\n\u001b[0;32m-> 1611\u001b[0;31m         \u001b[0;32mfor\u001b[0m \u001b[0mline\u001b[0m \u001b[0;32min\u001b[0m \u001b[0mself\u001b[0m\u001b[0;34m.\u001b[0m\u001b[0m_get_lines\u001b[0m\u001b[0;34m(\u001b[0m\u001b[0;34m*\u001b[0m\u001b[0margs\u001b[0m\u001b[0;34m,\u001b[0m \u001b[0;34m**\u001b[0m\u001b[0mkwargs\u001b[0m\u001b[0;34m)\u001b[0m\u001b[0;34m:\u001b[0m\u001b[0;34m\u001b[0m\u001b[0;34m\u001b[0m\u001b[0m\n\u001b[0m\u001b[1;32m   1612\u001b[0m             \u001b[0mself\u001b[0m\u001b[0;34m.\u001b[0m\u001b[0madd_line\u001b[0m\u001b[0;34m(\u001b[0m\u001b[0mline\u001b[0m\u001b[0;34m)\u001b[0m\u001b[0;34m\u001b[0m\u001b[0;34m\u001b[0m\u001b[0m\n\u001b[1;32m   1613\u001b[0m             \u001b[0mlines\u001b[0m\u001b[0;34m.\u001b[0m\u001b[0mappend\u001b[0m\u001b[0;34m(\u001b[0m\u001b[0mline\u001b[0m\u001b[0;34m)\u001b[0m\u001b[0;34m\u001b[0m\u001b[0;34m\u001b[0m\u001b[0m\n",
      "\u001b[0;32m~/anaconda3/lib/python3.7/site-packages/matplotlib/axes/_base.py\u001b[0m in \u001b[0;36m_grab_next_args\u001b[0;34m(self, *args, **kwargs)\u001b[0m\n\u001b[1;32m    391\u001b[0m                 \u001b[0mthis\u001b[0m \u001b[0;34m+=\u001b[0m \u001b[0margs\u001b[0m\u001b[0;34m[\u001b[0m\u001b[0;36m0\u001b[0m\u001b[0;34m]\u001b[0m\u001b[0;34m,\u001b[0m\u001b[0;34m\u001b[0m\u001b[0;34m\u001b[0m\u001b[0m\n\u001b[1;32m    392\u001b[0m                 \u001b[0margs\u001b[0m \u001b[0;34m=\u001b[0m \u001b[0margs\u001b[0m\u001b[0;34m[\u001b[0m\u001b[0;36m1\u001b[0m\u001b[0;34m:\u001b[0m\u001b[0;34m]\u001b[0m\u001b[0;34m\u001b[0m\u001b[0;34m\u001b[0m\u001b[0m\n\u001b[0;32m--> 393\u001b[0;31m             \u001b[0;32myield\u001b[0m \u001b[0;32mfrom\u001b[0m \u001b[0mself\u001b[0m\u001b[0;34m.\u001b[0m\u001b[0m_plot_args\u001b[0m\u001b[0;34m(\u001b[0m\u001b[0mthis\u001b[0m\u001b[0;34m,\u001b[0m \u001b[0mkwargs\u001b[0m\u001b[0;34m)\u001b[0m\u001b[0;34m\u001b[0m\u001b[0;34m\u001b[0m\u001b[0m\n\u001b[0m\u001b[1;32m    394\u001b[0m \u001b[0;34m\u001b[0m\u001b[0m\n\u001b[1;32m    395\u001b[0m \u001b[0;34m\u001b[0m\u001b[0m\n",
      "\u001b[0;32m~/anaconda3/lib/python3.7/site-packages/matplotlib/axes/_base.py\u001b[0m in \u001b[0;36m_plot_args\u001b[0;34m(self, tup, kwargs)\u001b[0m\n\u001b[1;32m    368\u001b[0m             \u001b[0mx\u001b[0m\u001b[0;34m,\u001b[0m \u001b[0my\u001b[0m \u001b[0;34m=\u001b[0m \u001b[0mindex_of\u001b[0m\u001b[0;34m(\u001b[0m\u001b[0mtup\u001b[0m\u001b[0;34m[\u001b[0m\u001b[0;34m-\u001b[0m\u001b[0;36m1\u001b[0m\u001b[0;34m]\u001b[0m\u001b[0;34m)\u001b[0m\u001b[0;34m\u001b[0m\u001b[0;34m\u001b[0m\u001b[0m\n\u001b[1;32m    369\u001b[0m \u001b[0;34m\u001b[0m\u001b[0m\n\u001b[0;32m--> 370\u001b[0;31m         \u001b[0mx\u001b[0m\u001b[0;34m,\u001b[0m \u001b[0my\u001b[0m \u001b[0;34m=\u001b[0m \u001b[0mself\u001b[0m\u001b[0;34m.\u001b[0m\u001b[0m_xy_from_xy\u001b[0m\u001b[0;34m(\u001b[0m\u001b[0mx\u001b[0m\u001b[0;34m,\u001b[0m \u001b[0my\u001b[0m\u001b[0;34m)\u001b[0m\u001b[0;34m\u001b[0m\u001b[0;34m\u001b[0m\u001b[0m\n\u001b[0m\u001b[1;32m    371\u001b[0m \u001b[0;34m\u001b[0m\u001b[0m\n\u001b[1;32m    372\u001b[0m         \u001b[0;32mif\u001b[0m \u001b[0mself\u001b[0m\u001b[0;34m.\u001b[0m\u001b[0mcommand\u001b[0m \u001b[0;34m==\u001b[0m \u001b[0;34m'plot'\u001b[0m\u001b[0;34m:\u001b[0m\u001b[0;34m\u001b[0m\u001b[0;34m\u001b[0m\u001b[0m\n",
      "\u001b[0;32m~/anaconda3/lib/python3.7/site-packages/matplotlib/axes/_base.py\u001b[0m in \u001b[0;36m_xy_from_xy\u001b[0;34m(self, x, y)\u001b[0m\n\u001b[1;32m    229\u001b[0m         \u001b[0;32mif\u001b[0m \u001b[0mx\u001b[0m\u001b[0;34m.\u001b[0m\u001b[0mshape\u001b[0m\u001b[0;34m[\u001b[0m\u001b[0;36m0\u001b[0m\u001b[0;34m]\u001b[0m \u001b[0;34m!=\u001b[0m \u001b[0my\u001b[0m\u001b[0;34m.\u001b[0m\u001b[0mshape\u001b[0m\u001b[0;34m[\u001b[0m\u001b[0;36m0\u001b[0m\u001b[0;34m]\u001b[0m\u001b[0;34m:\u001b[0m\u001b[0;34m\u001b[0m\u001b[0;34m\u001b[0m\u001b[0m\n\u001b[1;32m    230\u001b[0m             raise ValueError(\"x and y must have same first dimension, but \"\n\u001b[0;32m--> 231\u001b[0;31m                              \"have shapes {} and {}\".format(x.shape, y.shape))\n\u001b[0m\u001b[1;32m    232\u001b[0m         \u001b[0;32mif\u001b[0m \u001b[0mx\u001b[0m\u001b[0;34m.\u001b[0m\u001b[0mndim\u001b[0m \u001b[0;34m>\u001b[0m \u001b[0;36m2\u001b[0m \u001b[0;32mor\u001b[0m \u001b[0my\u001b[0m\u001b[0;34m.\u001b[0m\u001b[0mndim\u001b[0m \u001b[0;34m>\u001b[0m \u001b[0;36m2\u001b[0m\u001b[0;34m:\u001b[0m\u001b[0;34m\u001b[0m\u001b[0;34m\u001b[0m\u001b[0m\n\u001b[1;32m    233\u001b[0m             raise ValueError(\"x and y can be no greater than 2-D, but have \"\n",
      "\u001b[0;31mValueError\u001b[0m: x and y must have same first dimension, but have shapes (31,) and (64,)"
     ]
    },
    {
     "data": {
      "image/png": "[encoded data removed]",
      "text/plain": [
       "<Figure size 432x288 with 1 Axes>"
      ]
     },
     "metadata": {
      "needs_background": "light"
     },
     "output_type": "display_data"
    }
   ],
   "source": [
    "print(knn_acc)\n",
    "\n",
    "import matplotlib.pyplot as plt\n",
    "plt.plot(range(1, 32), knn_acc)\n",
    "plt.xlabel('no. of features')\n",
    "plt.ylabel('accuracy')\n",
    "# plt.title('Pakistan India Population till 2010')\n",
    "plt.show()"
   ]
  },
  {
   "cell_type": "code",
   "execution_count": 50,
   "metadata": {},
   "outputs": [],
   "source": [
    "knn_acc= list()\n",
    "for i in range(65, 97): \n",
    "    cols= featureScores.nlargest(i,'Score').Features  #print 10 best features\n",
    "    X= data[cols]\n",
    "\n",
    "    for col in X.keys():\n",
    "        X[col].fillna(0, inplace=True)\n",
    "\n",
    "    X_train, X_test, y_train, y_test= train_test_split(X,y, random_state=0)\n",
    "\n",
    "    # Feature Scaling\n",
    "\n",
    "    sc_X= StandardScaler()\n",
    "    X_train= sc_X.fit_transform(X_train)\n",
    "    X_test= sc_X.transform(X_test)\n",
    "\n",
    "    knn_model.fit(X_train, y_train)\n",
    "\n",
    "    knn_pred= knn_model.predict(X_test)\n",
    "#     print(knn_pred)\n",
    "\n",
    "#     knn_probs= knn_model.predict_proba(X_test)\n",
    "#     print(knn_probs)\n",
    "\n",
    "    # Accuracy Score\n",
    "\n",
    "    knn_acc.append(accuracy_score(y_test, knn_pred))\n",
    "#     print(knn_acc)"
   ]
  },
  {
   "cell_type": "code",
   "execution_count": 51,
   "metadata": {
    "scrolled": true
   },
   "outputs": [
    {
     "name": "stdout",
     "output_type": "stream",
     "text": [
      "[0.8585247883917775, 0.8561064087061668, 0.8585247883917775, 0.8621523579201935, 0.8561064087061668, 0.8597339782345829, 0.8585247883917775, 0.8573155985489722, 0.8548972188633616, 0.8548972188633616, 0.8536880290205562, 0.8500604594921403, 0.8512696493349455, 0.8500604594921403, 0.8500604594921403, 0.8500604594921403, 0.848851269649335, 0.8512696493349455, 0.8536880290205562, 0.845223700120919, 0.8464328899637243, 0.848851269649335, 0.848851269649335, 0.845223700120919, 0.8464328899637243, 0.8476420798065296, 0.8464328899637243, 0.845223700120919, 0.848851269649335, 0.8440145102781137, 0.8464328899637243, 0.8428053204353083]\n"
     ]
    },
    {
     "data": {
      "image/png": "[encoded data removed]",
      "text/plain": [
       "<Figure size 432x288 with 1 Axes>"
      ]
     },
     "metadata": {
      "needs_background": "light"
     },
     "output_type": "display_data"
    }
   ],
   "source": [
    "print(knn_acc)\n",
    "\n",
    "import matplotlib.pyplot as plt\n",
    "plt.plot(range(65, 97), knn_acc)\n",
    "plt.xlabel('no. of features')\n",
    "plt.ylabel('accuracy')\n",
    "# plt.title('Pakistan India Population till 2010')\n",
    "plt.show()"
   ]
  },
  {
   "cell_type": "markdown",
   "metadata": {},
   "source": [
    "# K Means"
   ]
  },
  {
   "cell_type": "code",
   "execution_count": 55,
   "metadata": {},
   "outputs": [],
   "source": [
    "from sklearn.cluster import KMeans\n",
    "import matplotlib.pyplot as plt "
   ]
  },
  {
   "cell_type": "code",
   "execution_count": 53,
   "metadata": {},
   "outputs": [],
   "source": [
    "cols= featureScores.nlargest(32,'Score').Features  #print 10 best features\n",
    "X= data[cols]\n",
    "\n",
    "for col in X.keys():\n",
    "    X[col].fillna(0, inplace=True)\n",
    "\n",
    "X_train, X_test, y_train, y_test= train_test_split(X,y, random_state=0)\n",
    "\n",
    "# Feature Scaling\n",
    "\n",
    "sc_X= StandardScaler()\n",
    "X_train= sc_X.fit_transform(X_train)\n",
    "X_test= sc_X.transform(X_test)"
   ]
  },
  {
   "cell_type": "code",
   "execution_count": 56,
   "metadata": {},
   "outputs": [
    {
     "data": {
      "image/png": "[encoded data removed]",
      "text/plain": [
       "<Figure size 576x396 with 1 Axes>"
      ]
     },
     "metadata": {},
     "output_type": "display_data"
    }
   ],
   "source": [
    "from yellowbrick.cluster import KElbowVisualizer\n",
    "\n",
    "km_model= KMeans(random_state=0)\n",
    "\n",
    "visualizer1= KElbowVisualizer(km_model, k=(2,10), metric='silhouette', timings= False)\n",
    "\n",
    "visualizer1.fit(X_train)\n",
    "visualizer1.poof()"
   ]
  },
  {
   "cell_type": "code",
   "execution_count": 60,
   "metadata": {},
   "outputs": [
    {
     "name": "stdout",
     "output_type": "stream",
     "text": [
      "0.32889963724304716\n",
      "[[ 86 555]\n",
      " [  0 186]]\n"
     ]
    }
   ],
   "source": [
    "kmeans= KMeans(random_state=0, n_clusters=2).fit(X_train)\n",
    "labels= kmeans.labels_\n",
    "# print(len(labels))\n",
    "\n",
    "km_pred= kmeans.predict(X_test)\n",
    "\n",
    "km_acc= accuracy_score(y_test, km_pred)\n",
    "print(km_acc)\n",
    "\n",
    "rf_conf= confusion_matrix(y_test, km_pred)\n",
    "print(rf_conf)"
   ]
  },
  {
   "cell_type": "code",
   "execution_count": null,
   "metadata": {},
   "outputs": [],
   "source": [
    " "
   ]
  }
 ],
 "metadata": {
  "kernelspec": {
   "display_name": "Python 3",
   "language": "python",
   "name": "python3"
  },
  "language_info": {
   "codemirror_mode": {
    "name": "ipython",
    "version": 3
   },
   "file_extension": ".py",
   "mimetype": "text/x-python",
   "name": "python",
   "nbconvert_exporter": "python",
   "pygments_lexer": "ipython3",
   "version": "3.7.3"
  }
 },
 "nbformat": 4,
 "nbformat_minor": 2
}
